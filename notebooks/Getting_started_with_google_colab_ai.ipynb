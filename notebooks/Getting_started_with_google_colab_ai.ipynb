{
  "cells": [
    {
      "cell_type": "markdown",
      "source": [
        "# Hello world\n"
      ],
      "metadata": {
        "id": "ofvTkmErF0iq"
      }
    }
  ],
  "metadata": {
    "colab": {
      "provenance": []
    },
    "kernelspec": {
      "name": "python3",
      "display_name": "Python 3"
    },
    "language_info": {
      "name": "python"
    }
  },
  "nbformat": 4,
  "nbformat_minor": 0
}